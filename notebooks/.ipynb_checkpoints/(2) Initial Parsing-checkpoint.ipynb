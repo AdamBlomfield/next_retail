{
 "cells": [
  {
   "cell_type": "markdown",
   "metadata": {},
   "source": [
    "# Notebook Overview"
   ]
  },
  {
   "cell_type": "markdown",
   "metadata": {},
   "source": [
    "Using several pages of Next.co.uk create a python script to routinely scrape and add updated figures to a csv file"
   ]
  },
  {
   "cell_type": "markdown",
   "metadata": {},
   "source": [
    "# Information to scrape:"
   ]
  },
  {
   "cell_type": "markdown",
   "metadata": {},
   "source": [
    "* Total SKU\n",
    "* Total SKU in stock vs OOS"
   ]
  },
  {
   "cell_type": "markdown",
   "metadata": {},
   "source": [
    "# Imports"
   ]
  },
  {
   "cell_type": "code",
   "execution_count": 1,
   "metadata": {
    "ExecuteTime": {
     "end_time": "2020-12-21T16:32:42.922728Z",
     "start_time": "2020-12-21T16:32:42.593875Z"
    }
   },
   "outputs": [],
   "source": [
    "from bs4 import BeautifulSoup # Webscraping\n",
    "import requests\n",
    "import re\n",
    "\n",
    "import pandas as pd # Dataframes\n",
    "\n",
    "from collections import Counter # Combining dictionary values\n",
    "from datetime import date # Input date the data is scraped\n",
    "\n",
    "# Custom Functions\n",
    "import sys\n",
    "sys.path.append('../')\n",
    "from custom_functions.functions_for_parsing import strip_string_to_digits_only, sku_meta_data"
   ]
  },
  {
   "cell_type": "markdown",
   "metadata": {},
   "source": [
    "# Dataframe to store the results"
   ]
  },
  {
   "cell_type": "code",
   "execution_count": 2,
   "metadata": {
    "ExecuteTime": {
     "end_time": "2020-12-21T16:32:43.700684Z",
     "start_time": "2020-12-21T16:32:43.684141Z"
    }
   },
   "outputs": [
    {
     "data": {
      "text/html": [
       "<div>\n",
       "<style scoped>\n",
       "    .dataframe tbody tr th:only-of-type {\n",
       "        vertical-align: middle;\n",
       "    }\n",
       "\n",
       "    .dataframe tbody tr th {\n",
       "        vertical-align: top;\n",
       "    }\n",
       "\n",
       "    .dataframe thead th {\n",
       "        text-align: right;\n",
       "    }\n",
       "</style>\n",
       "<table border=\"1\" class=\"dataframe\">\n",
       "  <thead>\n",
       "    <tr style=\"text-align: right;\">\n",
       "      <th></th>\n",
       "      <th>Date</th>\n",
       "      <th>Total</th>\n",
       "      <th>New</th>\n",
       "      <th>In Stock</th>\n",
       "      <th>Restocked</th>\n",
       "      <th>Out of Stock</th>\n",
       "    </tr>\n",
       "  </thead>\n",
       "  <tbody>\n",
       "  </tbody>\n",
       "</table>\n",
       "</div>"
      ],
      "text/plain": [
       "Empty DataFrame\n",
       "Columns: [Date, Total, New, In Stock, Restocked, Out of Stock]\n",
       "Index: []"
      ]
     },
     "execution_count": 2,
     "metadata": {},
     "output_type": "execute_result"
    }
   ],
   "source": [
    "meta_data_df = pd.DataFrame(columns=('Date', 'Total', 'New', 'In Stock', 'Restocked', 'Out of Stock'))\n",
    "meta_data_df"
   ]
  },
  {
   "cell_type": "markdown",
   "metadata": {},
   "source": [
    "# Scrape stock levels"
   ]
  },
  {
   "cell_type": "code",
   "execution_count": 6,
   "metadata": {
    "ExecuteTime": {
     "end_time": "2020-12-21T16:33:18.460350Z",
     "start_time": "2020-12-21T16:33:16.630834Z"
    }
   },
   "outputs": [
    {
     "data": {
      "text/plain": [
       "{'Date': datetime.date(2020, 12, 21),\n",
       " 'Total': 77424,\n",
       " 'New': 8354,\n",
       " 'In Stock': 66196,\n",
       " 'Restocked': 514,\n",
       " 'Out of Stock': 11228}"
      ]
     },
     "execution_count": 6,
     "metadata": {},
     "output_type": "execute_result"
    }
   ],
   "source": [
    "# Timestamp of date of scraping\n",
    "todays_date = {'Date': date.today()}\n",
    "\n",
    "# Combine the meta_data for sku from webpages scraped\n",
    "womens_meta_data = sku_meta_data('https://www.next.co.uk/shop/gender-women/sizetype-')\n",
    "mens_meta_data = sku_meta_data('https://www.next.co.uk/shop/gender-men/sizetype-')\n",
    "all_meta_data = {}\n",
    "for key, value in womens_meta_data.items():\n",
    "    all_meta_data[key] = womens_meta_data[key] + mens_meta_data[key]\n",
    "\n",
    "# Combine the Date with the meta_data\n",
    "todays_meta_data = {**todays_date, **all_meta_data}\n",
    "todays_meta_data"
   ]
  },
  {
   "cell_type": "code",
   "execution_count": 5,
   "metadata": {
    "ExecuteTime": {
     "end_time": "2020-12-21T16:33:03.883137Z",
     "start_time": "2020-12-21T16:33:03.870675Z"
    },
    "scrolled": true
   },
   "outputs": [
    {
     "data": {
      "text/html": [
       "<div>\n",
       "<style scoped>\n",
       "    .dataframe tbody tr th:only-of-type {\n",
       "        vertical-align: middle;\n",
       "    }\n",
       "\n",
       "    .dataframe tbody tr th {\n",
       "        vertical-align: top;\n",
       "    }\n",
       "\n",
       "    .dataframe thead th {\n",
       "        text-align: right;\n",
       "    }\n",
       "</style>\n",
       "<table border=\"1\" class=\"dataframe\">\n",
       "  <thead>\n",
       "    <tr style=\"text-align: right;\">\n",
       "      <th></th>\n",
       "      <th>Date</th>\n",
       "      <th>Total</th>\n",
       "      <th>New</th>\n",
       "      <th>In Stock</th>\n",
       "      <th>Restocked</th>\n",
       "      <th>Out of Stock</th>\n",
       "    </tr>\n",
       "  </thead>\n",
       "  <tbody>\n",
       "    <tr>\n",
       "      <th>0</th>\n",
       "      <td>2020-12-21</td>\n",
       "      <td>77424</td>\n",
       "      <td>8354</td>\n",
       "      <td>66196</td>\n",
       "      <td>514</td>\n",
       "      <td>11228</td>\n",
       "    </tr>\n",
       "  </tbody>\n",
       "</table>\n",
       "</div>"
      ],
      "text/plain": [
       "         Date  Total   New In Stock Restocked Out of Stock\n",
       "0  2020-12-21  77424  8354    66196       514        11228"
      ]
     },
     "execution_count": 5,
     "metadata": {},
     "output_type": "execute_result"
    }
   ],
   "source": [
    "# Update meta data df\n",
    "meta_data_df = meta_data_df.append(todays_meta_data, ignore_index=True)\n",
    "meta_data_df"
   ]
  },
  {
   "cell_type": "code",
   "execution_count": 8,
   "metadata": {
    "ExecuteTime": {
     "end_time": "2020-12-21T20:57:48.356935Z",
     "start_time": "2020-12-21T20:57:48.351148Z"
    }
   },
   "outputs": [],
   "source": [
    "# Append the new data to meta_data csv\n",
    "meta_data_df.to_csv('../data/meta_data.csv', mode='a', header=False)"
   ]
  },
  {
   "cell_type": "markdown",
   "metadata": {},
   "source": [
    "# Scrape Sales data"
   ]
  },
  {
   "cell_type": "code",
   "execution_count": null,
   "metadata": {},
   "outputs": [],
   "source": []
  }
 ],
 "metadata": {
  "kernelspec": {
   "display_name": "Python 3",
   "language": "python",
   "name": "python3"
  },
  "language_info": {
   "codemirror_mode": {
    "name": "ipython",
    "version": 3
   },
   "file_extension": ".py",
   "mimetype": "text/x-python",
   "name": "python",
   "nbconvert_exporter": "python",
   "pygments_lexer": "ipython3",
   "version": "3.7.4"
  },
  "toc": {
   "base_numbering": 1,
   "nav_menu": {},
   "number_sections": true,
   "sideBar": true,
   "skip_h1_title": false,
   "title_cell": "Table of Contents",
   "title_sidebar": "Contents",
   "toc_cell": false,
   "toc_position": {},
   "toc_section_display": true,
   "toc_window_display": false
  },
  "varInspector": {
   "cols": {
    "lenName": 16,
    "lenType": 16,
    "lenVar": 40
   },
   "kernels_config": {
    "python": {
     "delete_cmd_postfix": "",
     "delete_cmd_prefix": "del ",
     "library": "var_list.py",
     "varRefreshCmd": "print(var_dic_list())"
    },
    "r": {
     "delete_cmd_postfix": ") ",
     "delete_cmd_prefix": "rm(",
     "library": "var_list.r",
     "varRefreshCmd": "cat(var_dic_list()) "
    }
   },
   "types_to_exclude": [
    "module",
    "function",
    "builtin_function_or_method",
    "instance",
    "_Feature"
   ],
   "window_display": false
  }
 },
 "nbformat": 4,
 "nbformat_minor": 2
}

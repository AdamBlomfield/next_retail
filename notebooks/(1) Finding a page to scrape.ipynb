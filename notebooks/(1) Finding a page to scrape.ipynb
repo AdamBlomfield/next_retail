{
 "cells": [
  {
   "cell_type": "markdown",
   "metadata": {},
   "source": [
    "# Notebook Overview"
   ]
  },
  {
   "cell_type": "markdown",
   "metadata": {},
   "source": [
    "By working through the Next.co.uk robots.txt page, we find a few useful pages in order to scrape content ethically. "
   ]
  },
  {
   "cell_type": "markdown",
   "metadata": {},
   "source": [
    "# Imports"
   ]
  },
  {
   "cell_type": "code",
   "execution_count": 2,
   "metadata": {
    "ExecuteTime": {
     "end_time": "2020-12-11T14:48:33.780800Z",
     "start_time": "2020-12-11T14:48:33.689958Z"
    }
   },
   "outputs": [],
   "source": [
    "import requests # Retrieving robots.txt file\n",
    "from datetime import date # Saving robots.txt file"
   ]
  },
  {
   "cell_type": "markdown",
   "metadata": {},
   "source": [
    "# Allow and Disallow pages according to robots.txt"
   ]
  },
  {
   "cell_type": "code",
   "execution_count": 88,
   "metadata": {
    "ExecuteTime": {
     "end_time": "2020-12-11T15:55:02.925205Z",
     "start_time": "2020-12-11T15:55:02.441028Z"
    }
   },
   "outputs": [],
   "source": [
    "# Find the url for next's robots.txt\n",
    "robots_txt = 'https://www.next.co.uk/robots.txt'\n",
    "\n",
    "# Get the text from robots.txt page\n",
    "response = requests.get(robots_txt)\n",
    "allow_and_disallow = response.text\n",
    "\n",
    "# Save robots.txt file\n",
    "today = date.today()\n",
    "with open('next_uk_robots.txt', 'w') as text_file:\n",
    "    text_file.write('Next.co.uk Robots Text File (as of {}): \\n---\\n{}'.format(today, allow_and_disallow))\n",
    "\n",
    "# Create list of each line (string -> list)\n",
    "allow_and_disallow = allow_and_disallow.split(\"\\r\\n\")\n",
    "\n",
    "# Filter for only pages that are allowed or disallowed\n",
    "allow = [i for i in allow_and_disallow if i.startswith('Allow')]\n",
    "disallow = [i for i in allow_and_disallow if i.startswith('Disallow')]"
   ]
  },
  {
   "cell_type": "markdown",
   "metadata": {},
   "source": [
    "# Filter pages to find useful Allow pages"
   ]
  },
  {
   "cell_type": "code",
   "execution_count": 55,
   "metadata": {
    "ExecuteTime": {
     "end_time": "2020-12-11T15:27:52.411009Z",
     "start_time": "2020-12-11T15:27:52.406683Z"
    }
   },
   "outputs": [],
   "source": [
    "# Filter for only pages that are clothing\n",
    "allow_clothing = [i for i in allow if not i.startswith('Allow: /homeware')]\n",
    "allow_clothing = [i for i in allow_clothing if not i.startswith('Allow: /shop/department-homeware')]\n",
    "allow_clothing = [i for i in allow_clothing if not i.startswith('Allow: /shop/department-beauty-*-0')]"
   ]
  },
  {
   "cell_type": "code",
   "execution_count": 56,
   "metadata": {
    "ExecuteTime": {
     "end_time": "2020-12-11T15:27:52.426787Z",
     "start_time": "2020-12-11T15:27:52.422689Z"
    }
   },
   "outputs": [
    {
     "name": "stdout",
     "output_type": "stream",
     "text": [
      "Allow Clothing Preview (59 total):\n",
      "\t Allow: /shop/gender-women/sizetype-petite$\n",
      "\t Allow: /shop/gender-women/sizetype-maternity$\n",
      "\t Allow: /shop/gender-women/sizetype-curve$\n",
      "\n",
      "\n",
      "Disallow Preview (514 total):\n",
      "\t Disallow: /error.asp\n",
      "\t Disallow: */Error\n",
      "\t Disallow: /thanks.asp\n"
     ]
    }
   ],
   "source": [
    "# Preview both lists\n",
    "num_to_preview = 3\n",
    "\n",
    "# Preview Allow Clothing list\n",
    "print(f'Allow Clothing Preview ({len(allow_clothing)} total):')\n",
    "for page in allow_clothing[:num_to_preview]:\n",
    "    print('\\t',page)\n",
    "\n",
    "# Preview Disallow list\n",
    "print(f'\\n\\nDisallow Preview ({len(disallow)} total):')\n",
    "for page in disallow[:num_to_preview]:\n",
    "    print('\\t',page)"
   ]
  },
  {
   "cell_type": "markdown",
   "metadata": {},
   "source": [
    "## Pages to use"
   ]
  },
  {
   "cell_type": "markdown",
   "metadata": {},
   "source": [
    "Base URL: `https://www.next.co.uk`\n",
    "\n",
    "> Extension for Women's Clothing: `/shop/gender-women/sizetype-*\\$` [Link](https://www.next.co.uk/shop/gender-women/sizetype-)\n",
    "\n",
    "> Extension for Men's Clothing: `/shop/gender-men/sizetype-*\\$` [Link](https://www.next.co.uk/shop/gender-men/sizetype-)"
   ]
  },
  {
   "cell_type": "code",
   "execution_count": 93,
   "metadata": {
    "ExecuteTime": {
     "end_time": "2020-12-11T16:29:40.702511Z",
     "start_time": "2020-12-11T16:29:40.698775Z"
    }
   },
   "outputs": [
    {
     "name": "stdout",
     "output_type": "stream",
     "text": [
      "Do not scrape from these url extensions:\n",
      "\n",
      "\t /shop/gender-women/sizetype-*/*\n"
     ]
    }
   ],
   "source": [
    "# Don't use this very similar page:\n",
    "print('Do not scrape from these url extensions:\\n')\n",
    "similar_pages = [i for i in disallow if '/shop/gender-women/sizetype' in i]\n",
    "for page in similar_pages:\n",
    "    print('\\t',page.strip('Disallow: '))"
   ]
  },
  {
   "cell_type": "code",
   "execution_count": 94,
   "metadata": {
    "ExecuteTime": {
     "end_time": "2020-12-11T16:30:29.454796Z",
     "start_time": "2020-12-11T16:30:29.450099Z"
    }
   },
   "outputs": [
    {
     "name": "stdout",
     "output_type": "stream",
     "text": [
      "Do not scrape from these url extensions:\n",
      "\n",
      "\t /brands/boy\n",
      "\t /shop/boys/*\n",
      "\t /boys/*/1*\n",
      "\t /boys/*/2*\n",
      "\t /boys/*/3*\n",
      "\t /boys/*/4*\n",
      "\t /boys/*/5*\n",
      "\t /boys/*/6*\n",
      "\t /boys/*/7*\n",
      "\t /boys/*/8*\n",
      "\t /boys/*/9*\n"
     ]
    }
   ],
   "source": [
    "# Don't use this very similar page:\n",
    "print('Do not scrape from these url extensions:\\n')\n",
    "similar_pages = [i for i in disallow if '/boys' in i]\n",
    "for page in similar_pages:\n",
    "    print('\\t',page.strip('Disallow: '))"
   ]
  },
  {
   "cell_type": "code",
   "execution_count": 98,
   "metadata": {
    "ExecuteTime": {
     "end_time": "2020-12-11T16:31:19.771590Z",
     "start_time": "2020-12-11T16:31:19.767273Z"
    }
   },
   "outputs": [
    {
     "name": "stdout",
     "output_type": "stream",
     "text": [
      "Scrape from these url extensions:\n",
      "\n",
      "\t /shop/gender-newbornboys-gender-newbornunisex-gender-olderboys-gender-youngerboys/designfeature-christmassweater$\n",
      "\t /boys/new-in/older-boys/1$\n"
     ]
    }
   ],
   "source": [
    "# Don't use this very similar page:\n",
    "print('Scrape from these url extensions:\\n')\n",
    "similar_pages = [i for i in allow if 'boys' in i]\n",
    "for page in similar_pages:\n",
    "    print('\\t',page.strip('Allow: '))"
   ]
  },
  {
   "cell_type": "code",
   "execution_count": null,
   "metadata": {},
   "outputs": [],
   "source": []
  }
 ],
 "metadata": {
  "kernelspec": {
   "display_name": "Python 3",
   "language": "python",
   "name": "python3"
  },
  "language_info": {
   "codemirror_mode": {
    "name": "ipython",
    "version": 3
   },
   "file_extension": ".py",
   "mimetype": "text/x-python",
   "name": "python",
   "nbconvert_exporter": "python",
   "pygments_lexer": "ipython3",
   "version": "3.7.4"
  },
  "toc": {
   "base_numbering": 1,
   "nav_menu": {},
   "number_sections": true,
   "sideBar": true,
   "skip_h1_title": false,
   "title_cell": "Table of Contents",
   "title_sidebar": "Contents",
   "toc_cell": false,
   "toc_position": {},
   "toc_section_display": true,
   "toc_window_display": false
  },
  "varInspector": {
   "cols": {
    "lenName": 16,
    "lenType": 16,
    "lenVar": 40
   },
   "kernels_config": {
    "python": {
     "delete_cmd_postfix": "",
     "delete_cmd_prefix": "del ",
     "library": "var_list.py",
     "varRefreshCmd": "print(var_dic_list())"
    },
    "r": {
     "delete_cmd_postfix": ") ",
     "delete_cmd_prefix": "rm(",
     "library": "var_list.r",
     "varRefreshCmd": "cat(var_dic_list()) "
    }
   },
   "types_to_exclude": [
    "module",
    "function",
    "builtin_function_or_method",
    "instance",
    "_Feature"
   ],
   "window_display": false
  }
 },
 "nbformat": 4,
 "nbformat_minor": 2
}

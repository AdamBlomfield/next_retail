{
 "cells": [
  {
   "cell_type": "code",
   "execution_count": 1,
   "metadata": {
    "ExecuteTime": {
     "end_time": "2020-12-21T16:29:25.341836Z",
     "start_time": "2020-12-21T16:29:24.997808Z"
    }
   },
   "outputs": [],
   "source": [
    "from bs4 import BeautifulSoup # Webscraping\n",
    "import requests\n",
    "import re\n",
    "import pandas as pd # Dataframes\n",
    "from collections import Counter # Combining dictionary values\n",
    "from datetime import date # Input date the data is scraped\n",
    "rounding = 2"
   ]
  },
  {
   "cell_type": "code",
   "execution_count": 2,
   "metadata": {
    "ExecuteTime": {
     "end_time": "2020-12-21T16:29:25.385771Z",
     "start_time": "2020-12-21T16:29:25.382869Z"
    }
   },
   "outputs": [],
   "source": [
    "def strip_string_to_digits_only(string):\n",
    "    '''Takes a string and returns only the digits'''\n",
    "    digits = int(''.join([i for i in string if i.isdigit()]))\n",
    "    return digits"
   ]
  },
  {
   "cell_type": "code",
   "execution_count": 3,
   "metadata": {
    "ExecuteTime": {
     "end_time": "2020-12-21T16:29:25.456196Z",
     "start_time": "2020-12-21T16:29:25.450069Z"
    }
   },
   "outputs": [],
   "source": [
    "def sku_meta_data(url):\n",
    "    '''Returns a Counter of the total, new, in stock, restocked and out of stock values from a url page'''\n",
    "    \n",
    "    # Make a get request to retrieve the page\n",
    "    html_page = requests.get(url)\n",
    "\n",
    "    # Pass the page contents to beautiful soup for parsing\n",
    "    soup = BeautifulSoup(html_page.content, 'html.parser')\n",
    "\n",
    "    # Container that contains all the information we need\n",
    "    container = soup.find('div', class_='Filters')\n",
    "    \n",
    "    # Total SKU\n",
    "    total_sku = container.find('div', class_='ResultCount').div.text\n",
    "    total_sku = strip_string_to_digits_only(total_sku)\n",
    "\n",
    "    # New SKU\n",
    "    new_sku = container.find('li', class_='Option newin').text\n",
    "    new_sku = strip_string_to_digits_only(new_sku)\n",
    "\n",
    "    # In Stock SKU\n",
    "    is_sku = container.find('li', class_='Option available').text\n",
    "    is_sku = strip_string_to_digits_only(is_sku)\n",
    "#     is_pct = round(is_sku/total_sku*100,rounding)\n",
    "\n",
    "    # Restocked SKU\n",
    "    restocked_sku = container.find('li', class_='Option backinstock').text\n",
    "    restocked_sku = strip_string_to_digits_only(restocked_sku)\n",
    "\n",
    "    # Out of Stock SKU\n",
    "    oos_sku = total_sku - is_sku\n",
    "#     oos_pct = round(oos_sku/total_sku*100,rounding)\n",
    "    \n",
    "    # Counter Variable\n",
    "    counter_variable = Counter({'Total': total_sku, 'New': new_sku, 'In Stock': is_sku, 'Restocked': restocked_sku, 'Out of Stock': oos_sku})\n",
    "    \n",
    "    return counter_variable"
   ]
  },
  {
   "cell_type": "code",
   "execution_count": 10,
   "metadata": {
    "ExecuteTime": {
     "end_time": "2020-12-21T16:20:22.743912Z",
     "start_time": "2020-12-21T16:20:21.058099Z"
    }
   },
   "outputs": [
    {
     "ename": "TypeError",
     "evalue": "'Counter' object is not callable",
     "output_type": "error",
     "traceback": [
      "\u001b[0;31m---------------------------------------------------------------------------\u001b[0m",
      "\u001b[0;31mTypeError\u001b[0m                                 Traceback (most recent call last)",
      "\u001b[0;32m<ipython-input-10-7badc3e8d194>\u001b[0m in \u001b[0;36m<module>\u001b[0;34m\u001b[0m\n\u001b[1;32m      2\u001b[0m \u001b[0mwomens_meta_data\u001b[0m \u001b[0;34m=\u001b[0m \u001b[0msku_meta_data\u001b[0m\u001b[0;34m(\u001b[0m\u001b[0;34m'https://www.next.co.uk/shop/gender-women/sizetype-'\u001b[0m\u001b[0;34m)\u001b[0m\u001b[0;34m\u001b[0m\u001b[0;34m\u001b[0m\u001b[0m\n\u001b[1;32m      3\u001b[0m \u001b[0mmens_meta_data\u001b[0m \u001b[0;34m=\u001b[0m \u001b[0msku_meta_data\u001b[0m\u001b[0;34m(\u001b[0m\u001b[0;34m'https://www.next.co.uk/shop/gender-men/sizetype-'\u001b[0m\u001b[0;34m)\u001b[0m\u001b[0;34m\u001b[0m\u001b[0;34m\u001b[0m\u001b[0m\n\u001b[0;32m----> 4\u001b[0;31m \u001b[0msku_meta_data\u001b[0m \u001b[0;34m=\u001b[0m \u001b[0mmens_meta_data\u001b[0m \u001b[0;34m+\u001b[0m \u001b[0mwomens_meta_data\u001b[0m\u001b[0;34m(\u001b[0m\u001b[0;34m'https://www.next.co.uk/shop/gender-women/sizetype-'\u001b[0m\u001b[0;34m)\u001b[0m\u001b[0;34m\u001b[0m\u001b[0;34m\u001b[0m\u001b[0m\n\u001b[0m",
      "\u001b[0;31mTypeError\u001b[0m: 'Counter' object is not callable"
     ]
    }
   ],
   "source": [
    "# Combine the meta_data for sku from webpages scraped\n",
    "womens_meta_data = sku_meta_data('https://www.next.co.uk/shop/gender-women/sizetype-')\n",
    "mens_meta_data = sku_meta_data('https://www.next.co.uk/shop/gender-men/sizetype-')\n",
    "sku_meta_data = mens_meta_data + womens_meta_data('https://www.next.co.uk/shop/gender-women/sizetype-')"
   ]
  },
  {
   "cell_type": "markdown",
   "metadata": {},
   "source": [
    "# Adding 2 dictionary values"
   ]
  },
  {
   "cell_type": "code",
   "execution_count": 5,
   "metadata": {
    "ExecuteTime": {
     "end_time": "2020-12-21T16:15:35.390504Z",
     "start_time": "2020-12-21T16:15:35.387145Z"
    }
   },
   "outputs": [],
   "source": [
    "dict1 = {'A': 5, 'B': 254}\n",
    "dict2 = {'A': 4, 'B': 600}"
   ]
  },
  {
   "cell_type": "code",
   "execution_count": 7,
   "metadata": {
    "ExecuteTime": {
     "end_time": "2020-12-21T16:15:54.031245Z",
     "start_time": "2020-12-21T16:15:54.023008Z"
    }
   },
   "outputs": [
    {
     "ename": "TypeError",
     "evalue": "unsupported operand type(s) for +: 'dict' and 'dict'",
     "output_type": "error",
     "traceback": [
      "\u001b[0;31m---------------------------------------------------------------------------\u001b[0m",
      "\u001b[0;31mTypeError\u001b[0m                                 Traceback (most recent call last)",
      "\u001b[0;32m<ipython-input-7-423cbda1bdd2>\u001b[0m in \u001b[0;36m<module>\u001b[0;34m\u001b[0m\n\u001b[0;32m----> 1\u001b[0;31m \u001b[0mdict_sum\u001b[0m \u001b[0;34m=\u001b[0m \u001b[0mdict1\u001b[0m\u001b[0;34m+\u001b[0m\u001b[0mdict2\u001b[0m\u001b[0;34m\u001b[0m\u001b[0;34m\u001b[0m\u001b[0m\n\u001b[0m\u001b[1;32m      2\u001b[0m \u001b[0mdict_sum\u001b[0m\u001b[0;34m\u001b[0m\u001b[0;34m\u001b[0m\u001b[0m\n",
      "\u001b[0;31mTypeError\u001b[0m: unsupported operand type(s) for +: 'dict' and 'dict'"
     ]
    }
   ],
   "source": [
    "dict_sum = dict1+dict2\n",
    "dict_sum"
   ]
  },
  {
   "cell_type": "code",
   "execution_count": null,
   "metadata": {},
   "outputs": [],
   "source": [
    "# Create first dictionary\n",
    "dict1 = {  'Ritika': 5, 'Sam': 7, 'John' : 10 }\n",
    "# Create second dictionary\n",
    "dict2 = {'Aadi': 8,'Sam': 20,'Mark' : 11 }\n",
    "\n",
    "def mergeDict(dict1, dict2):\n",
    "    ''' Merge dictionaries and keep values of common keys in list'''\n",
    "    dict3 = {**dict1, **dict2}\n",
    "    for key, value in dict3.items():\n",
    "        if key in dict1 and key in dict2:\n",
    "               dict3[key] = [value , dict1[key]]\n",
    "    return dict3\n",
    "# Merge dictionaries and add values of common keys in a list\n",
    "dict3 = mergeDict(dict1, dict2)\n",
    "print('Dictionary 3 :')\n",
    "print(dict3)"
   ]
  },
  {
   "cell_type": "code",
   "execution_count": 9,
   "metadata": {
    "ExecuteTime": {
     "end_time": "2020-12-21T16:27:50.058313Z",
     "start_time": "2020-12-21T16:27:49.145127Z"
    }
   },
   "outputs": [
    {
     "data": {
      "text/plain": [
       "Counter({'Total': 52662,\n",
       "         'New': 6237,\n",
       "         'In Stock': 45703,\n",
       "         'Restocked': 302,\n",
       "         'Out of Stock': 6959})"
      ]
     },
     "execution_count": 9,
     "metadata": {},
     "output_type": "execute_result"
    }
   ],
   "source": [
    "dict1 = sku_meta_data('https://www.next.co.uk/shop/gender-women/sizetype-')\n",
    "dict1"
   ]
  },
  {
   "cell_type": "code",
   "execution_count": 10,
   "metadata": {
    "ExecuteTime": {
     "end_time": "2020-12-21T16:27:50.909080Z",
     "start_time": "2020-12-21T16:27:50.101725Z"
    }
   },
   "outputs": [
    {
     "data": {
      "text/plain": [
       "Counter({'Total': 24762,\n",
       "         'New': 2117,\n",
       "         'In Stock': 20493,\n",
       "         'Restocked': 212,\n",
       "         'Out of Stock': 4269})"
      ]
     },
     "execution_count": 10,
     "metadata": {},
     "output_type": "execute_result"
    }
   ],
   "source": [
    "dict2 = sku_meta_data('https://www.next.co.uk/shop/gender-men/sizetype-')\n",
    "dict2"
   ]
  },
  {
   "cell_type": "code",
   "execution_count": 13,
   "metadata": {
    "ExecuteTime": {
     "end_time": "2020-12-21T16:28:43.938505Z",
     "start_time": "2020-12-21T16:28:43.933206Z"
    }
   },
   "outputs": [
    {
     "data": {
      "text/plain": [
       "{'Total': 77424,\n",
       " 'New': 8354,\n",
       " 'In Stock': 66196,\n",
       " 'Restocked': 514,\n",
       " 'Out of Stock': 11228}"
      ]
     },
     "execution_count": 13,
     "metadata": {},
     "output_type": "execute_result"
    }
   ],
   "source": [
    "dict3 = {**dict1, **dict2}\n",
    "\n",
    "for key, value in dict3.items():\n",
    "    if key in dict1 and key in dict2:\n",
    "        dict3[key] = dict1[key] + dict2[key]\n",
    "dict3"
   ]
  },
  {
   "cell_type": "code",
   "execution_count": 5,
   "metadata": {
    "ExecuteTime": {
     "end_time": "2020-12-21T16:29:46.174445Z",
     "start_time": "2020-12-21T16:29:44.312516Z"
    }
   },
   "outputs": [
    {
     "data": {
      "text/plain": [
       "{'Total': 77424,\n",
       " 'New': 8354,\n",
       " 'In Stock': 66196,\n",
       " 'Restocked': 514,\n",
       " 'Out of Stock': 11228}"
      ]
     },
     "execution_count": 5,
     "metadata": {},
     "output_type": "execute_result"
    }
   ],
   "source": [
    "dict1 = sku_meta_data('https://www.next.co.uk/shop/gender-women/sizetype-')\n",
    "dict2 = sku_meta_data('https://www.next.co.uk/shop/gender-men/sizetype-')\n",
    "dict4 = {}\n",
    "\n",
    "for key, value in dict1.items():\n",
    "    dict4[key] = dict1[key] + dict2[key]\n",
    "    \n",
    "dict4"
   ]
  },
  {
   "cell_type": "code",
   "execution_count": 6,
   "metadata": {
    "ExecuteTime": {
     "end_time": "2020-12-21T16:30:29.505236Z",
     "start_time": "2020-12-21T16:30:27.571455Z"
    }
   },
   "outputs": [
    {
     "data": {
      "text/plain": [
       "{'Total': 77424,\n",
       " 'New': 8354,\n",
       " 'In Stock': 66196,\n",
       " 'Restocked': 514,\n",
       " 'Out of Stock': 11228}"
      ]
     },
     "execution_count": 6,
     "metadata": {},
     "output_type": "execute_result"
    }
   ],
   "source": [
    "dict1 = sku_meta_data('https://www.next.co.uk/shop/gender-women/sizetype-')\n",
    "dict2 = sku_meta_data('https://www.next.co.uk/shop/gender-men/sizetype-')\n",
    "dict5 = {}\n",
    "\n",
    "for key, value in dict1.items():\n",
    "    dict5[key] = dict1[key] + dict2[key]\n",
    "    \n",
    "dict5"
   ]
  },
  {
   "cell_type": "code",
   "execution_count": null,
   "metadata": {},
   "outputs": [],
   "source": [
    "for key, value in womens_meta_data.items():\n",
    "    sku_meta_data[key] = womens_meta_data[key] + mens_meta_data[key]"
   ]
  }
 ],
 "metadata": {
  "kernelspec": {
   "display_name": "Python 3",
   "language": "python",
   "name": "python3"
  },
  "language_info": {
   "codemirror_mode": {
    "name": "ipython",
    "version": 3
   },
   "file_extension": ".py",
   "mimetype": "text/x-python",
   "name": "python",
   "nbconvert_exporter": "python",
   "pygments_lexer": "ipython3",
   "version": "3.7.4"
  },
  "toc": {
   "base_numbering": 1,
   "nav_menu": {},
   "number_sections": true,
   "sideBar": true,
   "skip_h1_title": false,
   "title_cell": "Table of Contents",
   "title_sidebar": "Contents",
   "toc_cell": false,
   "toc_position": {},
   "toc_section_display": true,
   "toc_window_display": false
  },
  "varInspector": {
   "cols": {
    "lenName": 16,
    "lenType": 16,
    "lenVar": 40
   },
   "kernels_config": {
    "python": {
     "delete_cmd_postfix": "",
     "delete_cmd_prefix": "del ",
     "library": "var_list.py",
     "varRefreshCmd": "print(var_dic_list())"
    },
    "r": {
     "delete_cmd_postfix": ") ",
     "delete_cmd_prefix": "rm(",
     "library": "var_list.r",
     "varRefreshCmd": "cat(var_dic_list()) "
    }
   },
   "types_to_exclude": [
    "module",
    "function",
    "builtin_function_or_method",
    "instance",
    "_Feature"
   ],
   "window_display": false
  }
 },
 "nbformat": 4,
 "nbformat_minor": 2
}

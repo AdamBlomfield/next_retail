{
 "cells": [
  {
   "cell_type": "code",
   "execution_count": 1,
   "metadata": {
    "ExecuteTime": {
     "end_time": "2020-12-11T21:13:05.765337Z",
     "start_time": "2020-12-11T21:13:05.762494Z"
    }
   },
   "outputs": [],
   "source": [
    "def strip_string_to_digits_only(string):\n",
    "    '''Takes a string and returns only the digits'''\n",
    "    digits = int(''.join([i for i in string if i.isdigit()]))\n",
    "    return digits"
   ]
  },
  {
   "cell_type": "code",
   "execution_count": 6,
   "metadata": {
    "ExecuteTime": {
     "end_time": "2020-12-11T21:13:08.058297Z",
     "start_time": "2020-12-11T21:13:08.052382Z"
    }
   },
   "outputs": [],
   "source": [
    "def sku_meta_data(url):\n",
    "    '''Returns a Counter of the total, new, in stock, restocked and out of stock values from a url page'''\n",
    "    \n",
    "    # Make a get request to retrieve the page\n",
    "    html_page = requests.get(url)\n",
    "\n",
    "    # Pass the page contents to beautiful soup for parsing\n",
    "    soup = BeautifulSoup(html_page.content, 'html.parser')\n",
    "\n",
    "    # Container that contains all the information we need\n",
    "    container = soup.find('div', class_='Filters')\n",
    "    \n",
    "    # Total SKU\n",
    "    total_sku = container.find('div', class_='ResultCount').div.text\n",
    "    total_sku = strip_string_to_digits_only(total_sku)\n",
    "\n",
    "    # New SKU\n",
    "    new_sku = container.find('li', class_='Option newin').text\n",
    "    new_sku = strip_string_to_digits_only(new_sku)\n",
    "\n",
    "    # In Stock SKU\n",
    "    is_sku = container.find('li', class_='Option available').text\n",
    "    is_sku = strip_string_to_digits_only(is_sku)\n",
    "    is_pct = round(is_sku/total_sku*100,rounding)\n",
    "\n",
    "    # Restocked SKU\n",
    "    restocked_sku = container.find('li', class_='Option backinstock').text\n",
    "    restocked_sku = strip_string_to_digits_only(restocked_sku)\n",
    "\n",
    "    # Out of Stock SKU\n",
    "    oos_sku = total_sku - is_sku\n",
    "    oos_pct = round(oos_sku/total_sku*100,rounding)\n",
    "    \n",
    "    return Counter({'Total': total_sku, 'New': new_sku, 'In Stock': is_sku, 'Restocked': restocked_sku, 'Out of Stock': oos_sku})"
   ]
  },
  {
   "cell_type": "markdown",
   "metadata": {},
   "source": [
    "# Notebook Overview"
   ]
  },
  {
   "cell_type": "markdown",
   "metadata": {},
   "source": []
  },
  {
   "cell_type": "markdown",
   "metadata": {},
   "source": [
    "# Information to scrape:"
   ]
  },
  {
   "cell_type": "markdown",
   "metadata": {},
   "source": [
    "* Total SKU\n",
    "* Total SKU in stock vs OOS"
   ]
  },
  {
   "cell_type": "markdown",
   "metadata": {},
   "source": [
    "# Imports"
   ]
  },
  {
   "cell_type": "code",
   "execution_count": 2,
   "metadata": {
    "ExecuteTime": {
     "end_time": "2020-12-11T21:13:06.454590Z",
     "start_time": "2020-12-11T21:13:05.767306Z"
    }
   },
   "outputs": [],
   "source": [
    "from bs4 import BeautifulSoup # Webscraping\n",
    "import requests\n",
    "import re\n",
    "\n",
    "import pandas as pd # Dataframes\n",
    "\n",
    "from collections import Counter # Combining dictionary values\n",
    "from datetime import date # Input date the data is scraped"
   ]
  },
  {
   "cell_type": "code",
   "execution_count": 3,
   "metadata": {
    "ExecuteTime": {
     "end_time": "2020-12-11T21:13:06.458929Z",
     "start_time": "2020-12-11T21:13:06.456721Z"
    }
   },
   "outputs": [],
   "source": [
    "rounding = 2"
   ]
  },
  {
   "cell_type": "markdown",
   "metadata": {},
   "source": [
    "# Creat Beautiful Soup Object"
   ]
  },
  {
   "cell_type": "markdown",
   "metadata": {},
   "source": [
    "## Women's clothing"
   ]
  },
  {
   "cell_type": "code",
   "execution_count": 4,
   "metadata": {
    "ExecuteTime": {
     "end_time": "2020-12-11T21:13:07.346586Z",
     "start_time": "2020-12-11T21:13:06.460756Z"
    }
   },
   "outputs": [
    {
     "name": "stdout",
     "output_type": "stream",
     "text": [
      "\n",
      "SKU\n",
      "---\n",
      "Total:\t\t50069\n",
      "New:\t\t5872\n",
      "In Stock:\t43620\t(87.12%)\n",
      "Restocked:\t480\n",
      "Out of Stock:\t6449\t(12.88%)\n",
      "\n"
     ]
    }
   ],
   "source": [
    "url_women = 'https://www.next.co.uk/shop/gender-women/sizetype-'\n",
    "\n",
    "# Make a get request to retrieve the page\n",
    "html_page = requests.get(url_women)\n",
    "\n",
    "# Pass the page contents to beautiful soup for parsing\n",
    "soup = BeautifulSoup(html_page.content, 'html.parser')\n",
    "# Container that contains all the information we need\n",
    "container = soup.find('div', class_='Filters')\n",
    "\n",
    "# Total SKU\n",
    "total_sku = container.find('div', class_='ResultCount').div.text\n",
    "total_sku = strip_string_to_digits_only(total_sku)\n",
    "\n",
    "# New SKU\n",
    "new_sku = container.find('li', class_='Option newin').text\n",
    "new_sku = strip_string_to_digits_only(new_sku)\n",
    "\n",
    "# In Stock SKU\n",
    "is_sku = container.find('li', class_='Option available').text\n",
    "is_sku = strip_string_to_digits_only(is_sku)\n",
    "is_pct = round(is_sku/total_sku*100,rounding)\n",
    "\n",
    "# Restocked SKU\n",
    "restocked_sku = container.find('li', class_='Option backinstock').text\n",
    "restocked_sku = strip_string_to_digits_only(restocked_sku)\n",
    "\n",
    "# Out of Stock SKU\n",
    "oos_sku = total_sku - is_sku\n",
    "oos_pct = round(oos_sku/total_sku*100,rounding)\n",
    "\n",
    "print(f'''\n",
    "SKU\n",
    "---\n",
    "Total:\\t\\t{total_sku}\n",
    "New:\\t\\t{new_sku}\n",
    "In Stock:\\t{is_sku}\\t({is_pct}%)\n",
    "Restocked:\\t{restocked_sku}\n",
    "Out of Stock:\\t{oos_sku}\\t({oos_pct}%)\n",
    "''')"
   ]
  },
  {
   "cell_type": "markdown",
   "metadata": {},
   "source": [
    "## Men's Clothing"
   ]
  },
  {
   "cell_type": "code",
   "execution_count": 5,
   "metadata": {
    "ExecuteTime": {
     "end_time": "2020-12-11T21:13:08.050640Z",
     "start_time": "2020-12-11T21:13:07.348978Z"
    },
    "scrolled": true
   },
   "outputs": [
    {
     "name": "stdout",
     "output_type": "stream",
     "text": [
      "\n",
      "SKU\n",
      "---\n",
      "Total:\t\t24339\n",
      "New:\t\t2174\n",
      "In Stock:\t20692\t(85.02%)\n",
      "Restocked:\t380\n",
      "Out of Stock:\t3647\t(14.98%)\n",
      "\n"
     ]
    }
   ],
   "source": [
    "url_men = 'https://www.next.co.uk/shop/gender-men/sizetype-'\n",
    "\n",
    "# Make a get request to retrieve the page\n",
    "html_page = requests.get(url_men)\n",
    "\n",
    "# Pass the page contents to beautiful soup for parsing\n",
    "soup = BeautifulSoup(html_page.content, 'html.parser')\n",
    "\n",
    "# Container that contains all the information we need\n",
    "container = soup.find('div', class_='Filters')\n",
    "\n",
    "# Total SKU\n",
    "total_sku = container.find('div', class_='ResultCount').div.text\n",
    "total_sku = strip_string_to_digits_only(total_sku)\n",
    "\n",
    "# New SKU\n",
    "new_sku = container.find('li', class_='Option newin').text\n",
    "new_sku = strip_string_to_digits_only(new_sku)\n",
    "\n",
    "# In Stock SKU\n",
    "is_sku = container.find('li', class_='Option available').text\n",
    "is_sku = strip_string_to_digits_only(is_sku)\n",
    "is_pct = round(is_sku/total_sku*100,rounding)\n",
    "\n",
    "# Restocked SKU\n",
    "restocked_sku = container.find('li', class_='Option backinstock').text\n",
    "restocked_sku = strip_string_to_digits_only(restocked_sku)\n",
    "\n",
    "# Out of Stock SKU\n",
    "oos_sku = total_sku - is_sku\n",
    "oos_pct = round(oos_sku/total_sku*100,rounding)\n",
    "\n",
    "print(f'''\n",
    "SKU\n",
    "---\n",
    "Total:\\t\\t{total_sku}\n",
    "New:\\t\\t{new_sku}\n",
    "In Stock:\\t{is_sku}\\t({is_pct}%)\n",
    "Restocked:\\t{restocked_sku}\n",
    "Out of Stock:\\t{oos_sku}\\t({oos_pct}%)\n",
    "''')"
   ]
  },
  {
   "cell_type": "code",
   "execution_count": 7,
   "metadata": {
    "ExecuteTime": {
     "end_time": "2020-12-11T21:13:08.074828Z",
     "start_time": "2020-12-11T21:13:08.061637Z"
    }
   },
   "outputs": [
    {
     "data": {
      "text/html": [
       "<div>\n",
       "<style scoped>\n",
       "    .dataframe tbody tr th:only-of-type {\n",
       "        vertical-align: middle;\n",
       "    }\n",
       "\n",
       "    .dataframe tbody tr th {\n",
       "        vertical-align: top;\n",
       "    }\n",
       "\n",
       "    .dataframe thead th {\n",
       "        text-align: right;\n",
       "    }\n",
       "</style>\n",
       "<table border=\"1\" class=\"dataframe\">\n",
       "  <thead>\n",
       "    <tr style=\"text-align: right;\">\n",
       "      <th></th>\n",
       "      <th>Date</th>\n",
       "      <th>Total</th>\n",
       "      <th>New</th>\n",
       "      <th>In Stock</th>\n",
       "      <th>Restocked</th>\n",
       "      <th>Out of Stock</th>\n",
       "    </tr>\n",
       "  </thead>\n",
       "  <tbody>\n",
       "  </tbody>\n",
       "</table>\n",
       "</div>"
      ],
      "text/plain": [
       "Empty DataFrame\n",
       "Columns: [Date, Total, New, In Stock, Restocked, Out of Stock]\n",
       "Index: []"
      ]
     },
     "execution_count": 7,
     "metadata": {},
     "output_type": "execute_result"
    }
   ],
   "source": [
    "# Dataframe to store the results\n",
    "meta_data_df = pd.DataFrame(columns=('Date', 'Total', 'New', 'In Stock', 'Restocked', 'Out of Stock'))\n",
    "meta_data_df"
   ]
  },
  {
   "cell_type": "code",
   "execution_count": 9,
   "metadata": {
    "ExecuteTime": {
     "end_time": "2020-12-11T21:14:28.221369Z",
     "start_time": "2020-12-11T21:14:26.377908Z"
    }
   },
   "outputs": [
    {
     "data": {
      "text/plain": [
       "{'Date': datetime.date(2020, 12, 11),\n",
       " 'Total': 74408,\n",
       " 'New': 8046,\n",
       " 'In Stock': 64312,\n",
       " 'Restocked': 860,\n",
       " 'Out of Stock': 10096}"
      ]
     },
     "execution_count": 9,
     "metadata": {},
     "output_type": "execute_result"
    }
   ],
   "source": [
    "# Timestamp of date of scraping\n",
    "todays_date = {'Date': date.today()}\n",
    "# todays_meta_data['Date'] = today\n",
    "\n",
    "# Combine the meta_data for sku from webpages scraped\n",
    "womens_meta_data = sku_meta_data('https://www.next.co.uk/shop/gender-women/sizetype-')\n",
    "mens_meta_data = sku_meta_data('https://www.next.co.uk/shop/gender-men/sizetype-')\n",
    "sku_meta_data = mens_meta_data + womens_meta_data\n",
    "\n",
    "# Combine the Date with the meta_data\n",
    "todays_meta_data = {**todays_date, **sku_meta_data}\n",
    "todays_meta_data"
   ]
  },
  {
   "cell_type": "code",
   "execution_count": 10,
   "metadata": {
    "ExecuteTime": {
     "end_time": "2020-12-11T21:14:31.161051Z",
     "start_time": "2020-12-11T21:14:31.148661Z"
    },
    "scrolled": true
   },
   "outputs": [
    {
     "data": {
      "text/html": [
       "<div>\n",
       "<style scoped>\n",
       "    .dataframe tbody tr th:only-of-type {\n",
       "        vertical-align: middle;\n",
       "    }\n",
       "\n",
       "    .dataframe tbody tr th {\n",
       "        vertical-align: top;\n",
       "    }\n",
       "\n",
       "    .dataframe thead th {\n",
       "        text-align: right;\n",
       "    }\n",
       "</style>\n",
       "<table border=\"1\" class=\"dataframe\">\n",
       "  <thead>\n",
       "    <tr style=\"text-align: right;\">\n",
       "      <th></th>\n",
       "      <th>Date</th>\n",
       "      <th>Total</th>\n",
       "      <th>New</th>\n",
       "      <th>In Stock</th>\n",
       "      <th>Restocked</th>\n",
       "      <th>Out of Stock</th>\n",
       "    </tr>\n",
       "  </thead>\n",
       "  <tbody>\n",
       "    <tr>\n",
       "      <th>0</th>\n",
       "      <td>2020-12-11</td>\n",
       "      <td>74408</td>\n",
       "      <td>8046</td>\n",
       "      <td>64312</td>\n",
       "      <td>860</td>\n",
       "      <td>10096</td>\n",
       "    </tr>\n",
       "  </tbody>\n",
       "</table>\n",
       "</div>"
      ],
      "text/plain": [
       "         Date  Total   New In Stock Restocked Out of Stock\n",
       "0  2020-12-11  74408  8046    64312       860        10096"
      ]
     },
     "execution_count": 10,
     "metadata": {},
     "output_type": "execute_result"
    }
   ],
   "source": [
    "# Update meta data df\n",
    "meta_data_df = meta_data_df.append(todays_meta_data, ignore_index=True)\n",
    "meta_data_df"
   ]
  },
  {
   "cell_type": "code",
   "execution_count": 14,
   "metadata": {
    "ExecuteTime": {
     "end_time": "2020-12-11T21:17:00.769021Z",
     "start_time": "2020-12-11T21:17:00.762957Z"
    }
   },
   "outputs": [],
   "source": [
    "# Save the updated df\n",
    "meta_data_df.to_csv('../data/meta_data')"
   ]
  },
  {
   "cell_type": "code",
   "execution_count": 16,
   "metadata": {
    "ExecuteTime": {
     "end_time": "2020-12-11T21:20:41.119944Z",
     "start_time": "2020-12-11T21:20:41.115638Z"
    }
   },
   "outputs": [],
   "source": [
    "# Append the new data to meta_data csv\n",
    "meta_data_df.to_csv('../data/meta_data.csv', mode='a', header=False)"
   ]
  },
  {
   "cell_type": "markdown",
   "metadata": {},
   "source": [
    "Need to write function to create blank csv if none exists, \n",
    "then append to that csv\n",
    "then repeat every X hours"
   ]
  },
  {
   "cell_type": "code",
   "execution_count": null,
   "metadata": {},
   "outputs": [],
   "source": [
    "# code from tutorial:\n",
    "if __name__ == '__main__':\n",
    "    while True:\n",
    "        find_jobs()\n",
    "        time_wait = 10\n",
    "        print(f'Waiting {time_wait} minutes...')\n",
    "        time.sleep(time_wait * 60)"
   ]
  }
 ],
 "metadata": {
  "kernelspec": {
   "display_name": "Python 3",
   "language": "python",
   "name": "python3"
  },
  "language_info": {
   "codemirror_mode": {
    "name": "ipython",
    "version": 3
   },
   "file_extension": ".py",
   "mimetype": "text/x-python",
   "name": "python",
   "nbconvert_exporter": "python",
   "pygments_lexer": "ipython3",
   "version": "3.7.4"
  },
  "toc": {
   "base_numbering": 1,
   "nav_menu": {},
   "number_sections": true,
   "sideBar": true,
   "skip_h1_title": false,
   "title_cell": "Table of Contents",
   "title_sidebar": "Contents",
   "toc_cell": false,
   "toc_position": {},
   "toc_section_display": true,
   "toc_window_display": false
  },
  "varInspector": {
   "cols": {
    "lenName": 16,
    "lenType": 16,
    "lenVar": 40
   },
   "kernels_config": {
    "python": {
     "delete_cmd_postfix": "",
     "delete_cmd_prefix": "del ",
     "library": "var_list.py",
     "varRefreshCmd": "print(var_dic_list())"
    },
    "r": {
     "delete_cmd_postfix": ") ",
     "delete_cmd_prefix": "rm(",
     "library": "var_list.r",
     "varRefreshCmd": "cat(var_dic_list()) "
    }
   },
   "types_to_exclude": [
    "module",
    "function",
    "builtin_function_or_method",
    "instance",
    "_Feature"
   ],
   "window_display": false
  }
 },
 "nbformat": 4,
 "nbformat_minor": 2
}

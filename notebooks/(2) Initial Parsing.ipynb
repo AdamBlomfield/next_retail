{
 "cells": [
  {
   "cell_type": "code",
   "execution_count": 1,
   "metadata": {
    "ExecuteTime": {
     "end_time": "2020-12-21T14:46:14.220480Z",
     "start_time": "2020-12-21T14:46:14.217370Z"
    }
   },
   "outputs": [],
   "source": [
    "def strip_string_to_digits_only(string):\n",
    "    '''Takes a string and returns only the digits'''\n",
    "    digits = int(''.join([i for i in string if i.isdigit()]))\n",
    "    return digits"
   ]
  },
  {
   "cell_type": "code",
   "execution_count": 2,
   "metadata": {
    "ExecuteTime": {
     "end_time": "2020-12-21T14:46:14.228301Z",
     "start_time": "2020-12-21T14:46:14.222747Z"
    }
   },
   "outputs": [],
   "source": [
    "def sku_meta_data(url):\n",
    "    '''Returns a Counter of the total, new, in stock, restocked and out of stock values from a url page'''\n",
    "    \n",
    "    # Make a get request to retrieve the page\n",
    "    html_page = requests.get(url)\n",
    "\n",
    "    # Pass the page contents to beautiful soup for parsing\n",
    "    soup = BeautifulSoup(html_page.content, 'html.parser')\n",
    "\n",
    "    # Container that contains all the information we need\n",
    "    container = soup.find('div', class_='Filters')\n",
    "    \n",
    "    # Total SKU\n",
    "    total_sku = container.find('div', class_='ResultCount').div.text\n",
    "    total_sku = strip_string_to_digits_only(total_sku)\n",
    "\n",
    "    # New SKU\n",
    "    new_sku = container.find('li', class_='Option newin').text\n",
    "    new_sku = strip_string_to_digits_only(new_sku)\n",
    "\n",
    "    # In Stock SKU\n",
    "    is_sku = container.find('li', class_='Option available').text\n",
    "    is_sku = strip_string_to_digits_only(is_sku)\n",
    "    is_pct = round(is_sku/total_sku*100,rounding)\n",
    "\n",
    "    # Restocked SKU\n",
    "    restocked_sku = container.find('li', class_='Option backinstock').text\n",
    "    restocked_sku = strip_string_to_digits_only(restocked_sku)\n",
    "\n",
    "    # Out of Stock SKU\n",
    "    oos_sku = total_sku - is_sku\n",
    "    oos_pct = round(oos_sku/total_sku*100,rounding)\n",
    "    \n",
    "    return Counter({'Total': total_sku, 'New': new_sku, 'In Stock': is_sku, 'Restocked': restocked_sku, 'Out of Stock': oos_sku})"
   ]
  },
  {
   "cell_type": "markdown",
   "metadata": {},
   "source": [
    "# Notebook Overview"
   ]
  },
  {
   "cell_type": "markdown",
   "metadata": {},
   "source": []
  },
  {
   "cell_type": "markdown",
   "metadata": {},
   "source": [
    "# Information to scrape:"
   ]
  },
  {
   "cell_type": "markdown",
   "metadata": {},
   "source": [
    "* Total SKU\n",
    "* Total SKU in stock vs OOS"
   ]
  },
  {
   "cell_type": "markdown",
   "metadata": {},
   "source": [
    "# Imports"
   ]
  },
  {
   "cell_type": "code",
   "execution_count": 3,
   "metadata": {
    "ExecuteTime": {
     "end_time": "2020-12-21T14:46:15.262376Z",
     "start_time": "2020-12-21T14:46:14.230234Z"
    }
   },
   "outputs": [],
   "source": [
    "from bs4 import BeautifulSoup # Webscraping\n",
    "import requests\n",
    "import re\n",
    "\n",
    "import pandas as pd # Dataframes\n",
    "\n",
    "from collections import Counter # Combining dictionary values\n",
    "from datetime import date # Input date the data is scraped"
   ]
  },
  {
   "cell_type": "code",
   "execution_count": 4,
   "metadata": {
    "ExecuteTime": {
     "end_time": "2020-12-21T14:46:15.265927Z",
     "start_time": "2020-12-21T14:46:15.263893Z"
    }
   },
   "outputs": [],
   "source": [
    "rounding = 2"
   ]
  },
  {
   "cell_type": "markdown",
   "metadata": {},
   "source": [
    "# Creat Beautiful Soup Object"
   ]
  },
  {
   "cell_type": "markdown",
   "metadata": {},
   "source": [
    "## Women's clothing"
   ]
  },
  {
   "cell_type": "code",
   "execution_count": 5,
   "metadata": {
    "ExecuteTime": {
     "end_time": "2020-12-21T14:46:19.253696Z",
     "start_time": "2020-12-21T14:46:15.267921Z"
    }
   },
   "outputs": [
    {
     "name": "stdout",
     "output_type": "stream",
     "text": [
      "\n",
      "SKU\n",
      "---\n",
      "Total:\t\t52846\n",
      "New:\t\t6249\n",
      "In Stock:\t45464\t(86.03%)\n",
      "Restocked:\t303\n",
      "Out of Stock:\t7382\t(13.97%)\n",
      "\n"
     ]
    }
   ],
   "source": [
    "url_women = 'https://www.next.co.uk/shop/gender-women/sizetype-'\n",
    "\n",
    "# Make a get request to retrieve the page\n",
    "html_page = requests.get(url_women)\n",
    "\n",
    "# Pass the page contents to beautiful soup for parsing\n",
    "soup = BeautifulSoup(html_page.content, 'html.parser')\n",
    "# Container that contains all the information we need\n",
    "container = soup.find('div', class_='Filters')\n",
    "\n",
    "# Total SKU\n",
    "total_sku = container.find('div', class_='ResultCount').div.text\n",
    "total_sku = strip_string_to_digits_only(total_sku)\n",
    "\n",
    "# New SKU\n",
    "new_sku = container.find('li', class_='Option newin').text\n",
    "new_sku = strip_string_to_digits_only(new_sku)\n",
    "\n",
    "# In Stock SKU\n",
    "is_sku = container.find('li', class_='Option available').text\n",
    "is_sku = strip_string_to_digits_only(is_sku)\n",
    "is_pct = round(is_sku/total_sku*100,rounding)\n",
    "\n",
    "# Restocked SKU\n",
    "restocked_sku = container.find('li', class_='Option backinstock').text\n",
    "restocked_sku = strip_string_to_digits_only(restocked_sku)\n",
    "\n",
    "# Out of Stock SKU\n",
    "oos_sku = total_sku - is_sku\n",
    "oos_pct = round(oos_sku/total_sku*100,rounding)\n",
    "\n",
    "print(f'''\n",
    "SKU\n",
    "---\n",
    "Total:\\t\\t{total_sku}\n",
    "New:\\t\\t{new_sku}\n",
    "In Stock:\\t{is_sku}\\t({is_pct}%)\n",
    "Restocked:\\t{restocked_sku}\n",
    "Out of Stock:\\t{oos_sku}\\t({oos_pct}%)\n",
    "''')"
   ]
  },
  {
   "cell_type": "code",
   "execution_count": 13,
   "metadata": {
    "ExecuteTime": {
     "end_time": "2020-12-21T14:47:18.287818Z",
     "start_time": "2020-12-21T14:47:18.280059Z"
    }
   },
   "outputs": [
    {
     "ename": "TypeError",
     "evalue": "'Counter' object is not callable",
     "output_type": "error",
     "traceback": [
      "\u001b[0;31m---------------------------------------------------------------------------\u001b[0m",
      "\u001b[0;31mTypeError\u001b[0m                                 Traceback (most recent call last)",
      "\u001b[0;32m<ipython-input-13-eb0365b8f819>\u001b[0m in \u001b[0;36m<module>\u001b[0;34m\u001b[0m\n\u001b[0;32m----> 1\u001b[0;31m \u001b[0msku_meta_data\u001b[0m\u001b[0;34m(\u001b[0m\u001b[0;34m'https://www.next.co.uk/shop/gender-women/sizetype-'\u001b[0m\u001b[0;34m)\u001b[0m\u001b[0;34m\u001b[0m\u001b[0;34m\u001b[0m\u001b[0m\n\u001b[0m",
      "\u001b[0;31mTypeError\u001b[0m: 'Counter' object is not callable"
     ]
    }
   ],
   "source": [
    "sku_meta_data('https://www.next.co.uk/shop/gender-women/sizetype-')"
   ]
  },
  {
   "cell_type": "markdown",
   "metadata": {},
   "source": [
    "## Men's Clothing"
   ]
  },
  {
   "cell_type": "code",
   "execution_count": 6,
   "metadata": {
    "ExecuteTime": {
     "end_time": "2020-12-21T14:46:21.811366Z",
     "start_time": "2020-12-21T14:46:19.255682Z"
    },
    "scrolled": true
   },
   "outputs": [
    {
     "name": "stdout",
     "output_type": "stream",
     "text": [
      "\n",
      "SKU\n",
      "---\n",
      "Total:\t\t25090\n",
      "New:\t\t2131\n",
      "In Stock:\t20476\t(81.61%)\n",
      "Restocked:\t213\n",
      "Out of Stock:\t4614\t(18.39%)\n",
      "\n"
     ]
    }
   ],
   "source": [
    "url_men = 'https://www.next.co.uk/shop/gender-men/sizetype-'\n",
    "\n",
    "# Make a get request to retrieve the page\n",
    "html_page = requests.get(url_men)\n",
    "\n",
    "# Pass the page contents to beautiful soup for parsing\n",
    "soup = BeautifulSoup(html_page.content, 'html.parser')\n",
    "\n",
    "# Container that contains all the information we need\n",
    "container = soup.find('div', class_='Filters')\n",
    "\n",
    "# Total SKU\n",
    "total_sku = container.find('div', class_='ResultCount').div.text\n",
    "total_sku = strip_string_to_digits_only(total_sku)\n",
    "\n",
    "# New SKU\n",
    "new_sku = container.find('li', class_='Option newin').text\n",
    "new_sku = strip_string_to_digits_only(new_sku)\n",
    "\n",
    "# In Stock SKU\n",
    "is_sku = container.find('li', class_='Option available').text\n",
    "is_sku = strip_string_to_digits_only(is_sku)\n",
    "is_pct = round(is_sku/total_sku*100,rounding)\n",
    "\n",
    "# Restocked SKU\n",
    "restocked_sku = container.find('li', class_='Option backinstock').text\n",
    "restocked_sku = strip_string_to_digits_only(restocked_sku)\n",
    "\n",
    "# Out of Stock SKU\n",
    "oos_sku = total_sku - is_sku\n",
    "oos_pct = round(oos_sku/total_sku*100,rounding)\n",
    "\n",
    "print(f'''\n",
    "SKU\n",
    "---\n",
    "Total:\\t\\t{total_sku}\n",
    "New:\\t\\t{new_sku}\n",
    "In Stock:\\t{is_sku}\\t({is_pct}%)\n",
    "Restocked:\\t{restocked_sku}\n",
    "Out of Stock:\\t{oos_sku}\\t({oos_pct}%)\n",
    "''')"
   ]
  },
  {
   "cell_type": "code",
   "execution_count": 7,
   "metadata": {
    "ExecuteTime": {
     "end_time": "2020-12-21T14:46:21.832755Z",
     "start_time": "2020-12-21T14:46:21.815351Z"
    }
   },
   "outputs": [
    {
     "data": {
      "text/html": [
       "<div>\n",
       "<style scoped>\n",
       "    .dataframe tbody tr th:only-of-type {\n",
       "        vertical-align: middle;\n",
       "    }\n",
       "\n",
       "    .dataframe tbody tr th {\n",
       "        vertical-align: top;\n",
       "    }\n",
       "\n",
       "    .dataframe thead th {\n",
       "        text-align: right;\n",
       "    }\n",
       "</style>\n",
       "<table border=\"1\" class=\"dataframe\">\n",
       "  <thead>\n",
       "    <tr style=\"text-align: right;\">\n",
       "      <th></th>\n",
       "      <th>Date</th>\n",
       "      <th>Total</th>\n",
       "      <th>New</th>\n",
       "      <th>In Stock</th>\n",
       "      <th>Restocked</th>\n",
       "      <th>Out of Stock</th>\n",
       "    </tr>\n",
       "  </thead>\n",
       "  <tbody>\n",
       "  </tbody>\n",
       "</table>\n",
       "</div>"
      ],
      "text/plain": [
       "Empty DataFrame\n",
       "Columns: [Date, Total, New, In Stock, Restocked, Out of Stock]\n",
       "Index: []"
      ]
     },
     "execution_count": 7,
     "metadata": {},
     "output_type": "execute_result"
    }
   ],
   "source": [
    "# Dataframe to store the results\n",
    "meta_data_df = pd.DataFrame(columns=('Date', 'Total', 'New', 'In Stock', 'Restocked', 'Out of Stock'))\n",
    "meta_data_df"
   ]
  },
  {
   "cell_type": "code",
   "execution_count": 8,
   "metadata": {
    "ExecuteTime": {
     "end_time": "2020-12-21T14:46:23.702462Z",
     "start_time": "2020-12-21T14:46:21.838241Z"
    }
   },
   "outputs": [
    {
     "data": {
      "text/plain": [
       "{'Date': datetime.date(2020, 12, 21),\n",
       " 'Total': 77936,\n",
       " 'New': 8380,\n",
       " 'In Stock': 65940,\n",
       " 'Restocked': 516,\n",
       " 'Out of Stock': 11996}"
      ]
     },
     "execution_count": 8,
     "metadata": {},
     "output_type": "execute_result"
    }
   ],
   "source": [
    "# Timestamp of date of scraping\n",
    "todays_date = {'Date': date.today()}\n",
    "# todays_meta_data['Date'] = today\n",
    "\n",
    "# Combine the meta_data for sku from webpages scraped\n",
    "womens_meta_data = sku_meta_data('https://www.next.co.uk/shop/gender-women/sizetype-')\n",
    "mens_meta_data = sku_meta_data('https://www.next.co.uk/shop/gender-men/sizetype-')\n",
    "sku_meta_data = mens_meta_data + womens_meta_data\n",
    "\n",
    "# Combine the Date with the meta_data\n",
    "todays_meta_data = {**todays_date, **sku_meta_data}\n",
    "todays_meta_data"
   ]
  },
  {
   "cell_type": "code",
   "execution_count": 9,
   "metadata": {
    "ExecuteTime": {
     "end_time": "2020-12-21T14:46:23.714426Z",
     "start_time": "2020-12-21T14:46:23.704448Z"
    },
    "scrolled": true
   },
   "outputs": [
    {
     "data": {
      "text/html": [
       "<div>\n",
       "<style scoped>\n",
       "    .dataframe tbody tr th:only-of-type {\n",
       "        vertical-align: middle;\n",
       "    }\n",
       "\n",
       "    .dataframe tbody tr th {\n",
       "        vertical-align: top;\n",
       "    }\n",
       "\n",
       "    .dataframe thead th {\n",
       "        text-align: right;\n",
       "    }\n",
       "</style>\n",
       "<table border=\"1\" class=\"dataframe\">\n",
       "  <thead>\n",
       "    <tr style=\"text-align: right;\">\n",
       "      <th></th>\n",
       "      <th>Date</th>\n",
       "      <th>Total</th>\n",
       "      <th>New</th>\n",
       "      <th>In Stock</th>\n",
       "      <th>Restocked</th>\n",
       "      <th>Out of Stock</th>\n",
       "    </tr>\n",
       "  </thead>\n",
       "  <tbody>\n",
       "    <tr>\n",
       "      <th>0</th>\n",
       "      <td>2020-12-21</td>\n",
       "      <td>77936</td>\n",
       "      <td>8380</td>\n",
       "      <td>65940</td>\n",
       "      <td>516</td>\n",
       "      <td>11996</td>\n",
       "    </tr>\n",
       "  </tbody>\n",
       "</table>\n",
       "</div>"
      ],
      "text/plain": [
       "         Date  Total   New In Stock Restocked Out of Stock\n",
       "0  2020-12-21  77936  8380    65940       516        11996"
      ]
     },
     "execution_count": 9,
     "metadata": {},
     "output_type": "execute_result"
    }
   ],
   "source": [
    "# Update meta data df\n",
    "meta_data_df = meta_data_df.append(todays_meta_data, ignore_index=True)\n",
    "meta_data_df"
   ]
  },
  {
   "cell_type": "code",
   "execution_count": 10,
   "metadata": {
    "ExecuteTime": {
     "end_time": "2020-12-21T14:46:23.724088Z",
     "start_time": "2020-12-21T14:46:23.717199Z"
    }
   },
   "outputs": [],
   "source": [
    "# Save the updated df\n",
    "meta_data_df.to_csv('../data/meta_data')"
   ]
  },
  {
   "cell_type": "code",
   "execution_count": 11,
   "metadata": {
    "ExecuteTime": {
     "end_time": "2020-12-21T14:46:23.730471Z",
     "start_time": "2020-12-21T14:46:23.726228Z"
    }
   },
   "outputs": [],
   "source": [
    "# Append the new data to meta_data csv\n",
    "meta_data_df.to_csv('../data/meta_data.csv', mode='a', header=False)"
   ]
  },
  {
   "cell_type": "markdown",
   "metadata": {},
   "source": [
    "Need to write function to create blank csv if none exists, \n",
    "then append to that csv\n",
    "then repeat every X hours"
   ]
  },
  {
   "cell_type": "code",
   "execution_count": 12,
   "metadata": {
    "ExecuteTime": {
     "end_time": "2020-12-21T14:46:23.870806Z",
     "start_time": "2020-12-21T14:46:23.732615Z"
    }
   },
   "outputs": [
    {
     "ename": "NameError",
     "evalue": "name 'find_jobs' is not defined",
     "output_type": "error",
     "traceback": [
      "\u001b[0;31m---------------------------------------------------------------------------\u001b[0m",
      "\u001b[0;31mNameError\u001b[0m                                 Traceback (most recent call last)",
      "\u001b[0;32m<ipython-input-12-56d6ece90b75>\u001b[0m in \u001b[0;36m<module>\u001b[0;34m\u001b[0m\n\u001b[1;32m      2\u001b[0m \u001b[0;32mif\u001b[0m \u001b[0m__name__\u001b[0m \u001b[0;34m==\u001b[0m \u001b[0;34m'__main__'\u001b[0m\u001b[0;34m:\u001b[0m\u001b[0;34m\u001b[0m\u001b[0;34m\u001b[0m\u001b[0m\n\u001b[1;32m      3\u001b[0m     \u001b[0;32mwhile\u001b[0m \u001b[0;32mTrue\u001b[0m\u001b[0;34m:\u001b[0m\u001b[0;34m\u001b[0m\u001b[0;34m\u001b[0m\u001b[0m\n\u001b[0;32m----> 4\u001b[0;31m         \u001b[0mfind_jobs\u001b[0m\u001b[0;34m(\u001b[0m\u001b[0;34m)\u001b[0m\u001b[0;34m\u001b[0m\u001b[0;34m\u001b[0m\u001b[0m\n\u001b[0m\u001b[1;32m      5\u001b[0m         \u001b[0mtime_wait\u001b[0m \u001b[0;34m=\u001b[0m \u001b[0;36m10\u001b[0m\u001b[0;34m\u001b[0m\u001b[0;34m\u001b[0m\u001b[0m\n\u001b[1;32m      6\u001b[0m         \u001b[0mprint\u001b[0m\u001b[0;34m(\u001b[0m\u001b[0;34mf'Waiting {time_wait} minutes...'\u001b[0m\u001b[0;34m)\u001b[0m\u001b[0;34m\u001b[0m\u001b[0;34m\u001b[0m\u001b[0m\n",
      "\u001b[0;31mNameError\u001b[0m: name 'find_jobs' is not defined"
     ]
    }
   ],
   "source": [
    "# code from tutorial:\n",
    "if __name__ == '__main__':\n",
    "    while True:\n",
    "        find_jobs()\n",
    "        time_wait = 10\n",
    "        print(f'Waiting {time_wait} minutes...')\n",
    "        time.sleep(time_wait * 60)"
   ]
  }
 ],
 "metadata": {
  "kernelspec": {
   "display_name": "Python 3",
   "language": "python",
   "name": "python3"
  },
  "language_info": {
   "codemirror_mode": {
    "name": "ipython",
    "version": 3
   },
   "file_extension": ".py",
   "mimetype": "text/x-python",
   "name": "python",
   "nbconvert_exporter": "python",
   "pygments_lexer": "ipython3",
   "version": "3.7.4"
  },
  "toc": {
   "base_numbering": 1,
   "nav_menu": {},
   "number_sections": true,
   "sideBar": true,
   "skip_h1_title": false,
   "title_cell": "Table of Contents",
   "title_sidebar": "Contents",
   "toc_cell": false,
   "toc_position": {},
   "toc_section_display": true,
   "toc_window_display": false
  },
  "varInspector": {
   "cols": {
    "lenName": 16,
    "lenType": 16,
    "lenVar": 40
   },
   "kernels_config": {
    "python": {
     "delete_cmd_postfix": "",
     "delete_cmd_prefix": "del ",
     "library": "var_list.py",
     "varRefreshCmd": "print(var_dic_list())"
    },
    "r": {
     "delete_cmd_postfix": ") ",
     "delete_cmd_prefix": "rm(",
     "library": "var_list.r",
     "varRefreshCmd": "cat(var_dic_list()) "
    }
   },
   "types_to_exclude": [
    "module",
    "function",
    "builtin_function_or_method",
    "instance",
    "_Feature"
   ],
   "window_display": false
  }
 },
 "nbformat": 4,
 "nbformat_minor": 2
}
